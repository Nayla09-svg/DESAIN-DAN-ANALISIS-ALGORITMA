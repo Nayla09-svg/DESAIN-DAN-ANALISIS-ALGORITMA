{
  "nbformat": 4,
  "nbformat_minor": 0,
  "metadata": {
    "colab": {
      "provenance": []
    },
    "kernelspec": {
      "name": "python3",
      "display_name": "Python 3"
    },
    "language_info": {
      "name": "python"
    }
  },
  "cells": [
    {
      "cell_type": "markdown",
      "source": [
        "Algoritma Mencari Nilai Maksimum & Minimum"
      ],
      "metadata": {
        "id": "xh9HRaXs0vl-"
      }
    },
    {
      "cell_type": "code",
      "execution_count": null,
      "metadata": {
        "colab": {
          "base_uri": "https://localhost:8080/"
        },
        "id": "bMCKJ2te0udD",
        "outputId": "5890065d-ac38-428b-ca08-ed78367d631d"
      },
      "outputs": [
        {
          "output_type": "stream",
          "name": "stdout",
          "text": [
            "Max & Min: (8, 2)\n"
          ]
        }
      ],
      "source": [
        "def max_min(arr):\n",
        "    mx, mn = arr[0], arr[0]\n",
        "    for x in arr[1:]:\n",
        "        if x > mx:\n",
        "            mx = x\n",
        "        if x < mn:\n",
        "            mn = x\n",
        "    return mx, mn\n",
        "\n",
        "data = [3, 5, 2, 8, 6]\n",
        "print(\"Max & Min:\", max_min(data))"
      ]
    },
    {
      "cell_type": "markdown",
      "source": [
        "Algoritma Jumlah & Rata-Rata"
      ],
      "metadata": {
        "id": "fETJuI39040S"
      }
    },
    {
      "cell_type": "code",
      "source": [
        "def sum_avg(arr):\n",
        "    s = sum(arr)  # bisa langsung pakai fungsi built-in\n",
        "    return s, s / len(arr)\n",
        "\n",
        "print(\"Sum & Avg:\", sum_avg(data))  # (24, 4.8)\n",
        "\n",
        "\n",
        "# Linear Search\n",
        "def linear_search(arr, target):\n",
        "    for i, x in enumerate(arr):\n",
        "        if x == target:\n",
        "            return i\n",
        "    return -1\n",
        "\n",
        "print(\"Linear Search:\", linear_search([7, 1, 9, 4], 9))"
      ],
      "metadata": {
        "colab": {
          "base_uri": "https://localhost:8080/"
        },
        "id": "wxIOZd2u07B5",
        "outputId": "f52eb955-c500-4627-f211-8c908885bbef"
      },
      "execution_count": null,
      "outputs": [
        {
          "output_type": "stream",
          "name": "stdout",
          "text": [
            "Sum & Avg: (24, 4.8)\n",
            "Linear Search: 2\n"
          ]
        }
      ]
    },
    {
      "cell_type": "markdown",
      "source": [
        "Linear Search"
      ],
      "metadata": {
        "id": "nNjsRywt2Wqn"
      }
    },
    {
      "cell_type": "code",
      "source": [
        "def linear_search(arr, target):\n",
        "    for i, x in enumerate(arr):\n",
        "        if x == target:\n",
        "            return i\n",
        "    return -1\n",
        "\n",
        "print(\"Linear Search:\", linear_search([7, 1, 9, 4], 9))"
      ],
      "metadata": {
        "colab": {
          "base_uri": "https://localhost:8080/"
        },
        "id": "GLd-w_Ez2Zjz",
        "outputId": "d6ffdb61-3ed8-4424-f26c-437809a05b75"
      },
      "execution_count": null,
      "outputs": [
        {
          "output_type": "stream",
          "name": "stdout",
          "text": [
            "Linear Search: 2\n"
          ]
        }
      ]
    },
    {
      "cell_type": "markdown",
      "source": [
        "Binary Search (array harus terurut!)"
      ],
      "metadata": {
        "id": "VTB4dZow1BjZ"
      }
    },
    {
      "cell_type": "code",
      "source": [
        "def binary_search(arr, target):\n",
        "    l, r = 0, len(arr) - 1\n",
        "    while l <= r:\n",
        "        m = (l + r) // 2\n",
        "        if arr[m] == target:\n",
        "            return m\n",
        "        elif arr[m] < target:\n",
        "            l = m + 1\n",
        "        else:\n",
        "            r = m - 1\n",
        "    return -1\n",
        "\n",
        "print(\"Binary Search:\", binary_search([1, 3, 5, 7, 9], 7))"
      ],
      "metadata": {
        "colab": {
          "base_uri": "https://localhost:8080/"
        },
        "id": "mkDPCkpv1FXb",
        "outputId": "2dd22c17-6ee2-4469-d52f-5080c64836e1"
      },
      "execution_count": null,
      "outputs": [
        {
          "output_type": "stream",
          "name": "stdout",
          "text": [
            "Binary Search: 3\n"
          ]
        }
      ]
    },
    {
      "cell_type": "markdown",
      "source": [
        "Cek Bilangan Prima"
      ],
      "metadata": {
        "id": "3fdd5D271Jfx"
      }
    },
    {
      "cell_type": "code",
      "source": [
        "def is_prime(n):\n",
        "    if n < 2:\n",
        "        return False\n",
        "    i = 2\n",
        "    while i * i <= n:\n",
        "        if n % i == 0:\n",
        "            return False\n",
        "        i += 1\n",
        "    return True\n",
        "\n",
        "print(\"Primes:\", [(x, is_prime(x)) for x in [2, 3, 4, 17, 20, 23]])"
      ],
      "metadata": {
        "colab": {
          "base_uri": "https://localhost:8080/"
        },
        "id": "7UACEwqk1MX4",
        "outputId": "f9aab16a-7a1c-4b57-8175-0d78b1325128"
      },
      "execution_count": null,
      "outputs": [
        {
          "output_type": "stream",
          "name": "stdout",
          "text": [
            "Primes: [(2, True), (3, True), (4, False), (17, True), (20, False), (23, True)]\n"
          ]
        }
      ]
    },
    {
      "cell_type": "markdown",
      "source": [
        "Sieve of Eratosthenes"
      ],
      "metadata": {
        "id": "_Yz1q8hL1QVd"
      }
    },
    {
      "cell_type": "code",
      "source": [
        "def sieve(n):\n",
        "    prime = [True] * (n + 1)\n",
        "    prime[0] = prime[1] = False\n",
        "    p = 2\n",
        "    while p * p <= n:\n",
        "        if prime[p]:\n",
        "            for m in range(p * p, n + 1, p):\n",
        "                prime[m] = False\n",
        "        p += 1\n",
        "    return [i for i, v in enumerate(prime) if v]\n",
        "\n",
        "print(\"Sieve:\", sieve(30))"
      ],
      "metadata": {
        "colab": {
          "base_uri": "https://localhost:8080/"
        },
        "id": "id6CbU0p1TPL",
        "outputId": "e0545372-965a-432f-89c8-4e2a42ffd0a3"
      },
      "execution_count": null,
      "outputs": [
        {
          "output_type": "stream",
          "name": "stdout",
          "text": [
            "Sieve: [2, 3, 5, 7, 11, 13, 17, 19, 23, 29]\n"
          ]
        }
      ]
    },
    {
      "cell_type": "markdown",
      "source": [
        "Faktorial (Iteratif)"
      ],
      "metadata": {
        "id": "zHzzaJID1XW9"
      }
    },
    {
      "cell_type": "code",
      "source": [
        "def factorial(n):\n",
        "    res = 1\n",
        "    for i in range(2, n + 1):\n",
        "        res *= i\n",
        "    return res\n",
        "\n",
        "print(\"Factorial 5:\", factorial(5))"
      ],
      "metadata": {
        "colab": {
          "base_uri": "https://localhost:8080/"
        },
        "id": "QdB2BgVe1a8N",
        "outputId": "88b33a2b-4ff7-4390-b3c3-97c3141a0762"
      },
      "execution_count": null,
      "outputs": [
        {
          "output_type": "stream",
          "name": "stdout",
          "text": [
            "Factorial 5: 120\n"
          ]
        }
      ]
    },
    {
      "cell_type": "markdown",
      "source": [
        "Fibonacci (Iteratif)\n"
      ],
      "metadata": {
        "id": "PqqUO5FJ1iX9"
      }
    },
    {
      "cell_type": "code",
      "source": [
        "def fib(n):\n",
        "    if n <= 1:\n",
        "        return n\n",
        "    a, b = 0, 1\n",
        "    for _ in range(2, n + 1):\n",
        "        a, b = b, a + b\n",
        "    return b\n",
        "\n",
        "print(\"Fibonacci:\", [fib(i) for i in range(10)])"
      ],
      "metadata": {
        "colab": {
          "base_uri": "https://localhost:8080/"
        },
        "id": "e-U7hIFd1lye",
        "outputId": "39a82048-523c-4edc-b7ae-f576a82a1094"
      },
      "execution_count": null,
      "outputs": [
        {
          "output_type": "stream",
          "name": "stdout",
          "text": [
            "Fibonacci: [0, 1, 1, 2, 3, 5, 8, 13, 21, 34]\n"
          ]
        }
      ]
    },
    {
      "cell_type": "markdown",
      "source": [
        "Palindrome String"
      ],
      "metadata": {
        "id": "IUnxY_VH1sOa"
      }
    },
    {
      "cell_type": "code",
      "source": [
        "def is_palindrome(s):\n",
        "    l, r = 0, len(s) - 1\n",
        "    while l < r:\n",
        "        if s[l] != s[r]:\n",
        "            return False\n",
        "        l += 1\n",
        "        r -= 1\n",
        "    return True\n",
        "\n",
        "print(\"Palindrome check:\", is_palindrome(\"level\"))\n",
        "print(\"Palindrome check:\", is_palindrome(\"hello\"))"
      ],
      "metadata": {
        "colab": {
          "base_uri": "https://localhost:8080/"
        },
        "id": "GOq3X3rP1tB4",
        "outputId": "e79478ab-6e35-4c57-e054-ac5ac8532397"
      },
      "execution_count": null,
      "outputs": [
        {
          "output_type": "stream",
          "name": "stdout",
          "text": [
            "Palindrome check: True\n",
            "Palindrome check: False\n"
          ]
        }
      ]
    },
    {
      "cell_type": "markdown",
      "source": [
        "Hitung Frekuensi Elemen"
      ],
      "metadata": {
        "id": "b8GBjRWJ14VJ"
      }
    },
    {
      "cell_type": "code",
      "source": [
        "def freq_map(arr):\n",
        "    f = {}\n",
        "    for x in arr:\n",
        "        f[x] = f.get(x, 0) + 1\n",
        "    return f\n",
        "\n",
        "print(\"Freq Map:\", freq_map([\"a\", \"b\", \"a\", \"c\", \"b\", \"a\"]))"
      ],
      "metadata": {
        "colab": {
          "base_uri": "https://localhost:8080/"
        },
        "id": "swKzdczq15GE",
        "outputId": "b302fa55-1ffa-425b-8a37-2228ce0307f9"
      },
      "execution_count": null,
      "outputs": [
        {
          "output_type": "stream",
          "name": "stdout",
          "text": [
            "Freq Map: {'a': 3, 'b': 2, 'c': 1}\n"
          ]
        }
      ]
    },
    {
      "cell_type": "markdown",
      "source": [
        "Nilai Kedua Terbesar"
      ],
      "metadata": {
        "id": "IgNiLrou18Sn"
      }
    },
    {
      "cell_type": "code",
      "source": [
        "def second_largest(arr):\n",
        "    first = second = float(\"-inf\")\n",
        "    for x in arr:\n",
        "        if x > first:\n",
        "            first, second = x, first\n",
        "        elif first > x > second:\n",
        "            second = x\n",
        "    return second\n",
        "\n",
        "print(\"Second Largest:\", second_largest([3, 9, 1, 7, 9, 5]))"
      ],
      "metadata": {
        "colab": {
          "base_uri": "https://localhost:8080/"
        },
        "id": "V1tdIBur1-w8",
        "outputId": "73dec1fb-3062-47a9-d839-f7d835e143ca"
      },
      "execution_count": null,
      "outputs": [
        {
          "output_type": "stream",
          "name": "stdout",
          "text": [
            "Second Largest: 7\n"
          ]
        }
      ]
    },
    {
      "cell_type": "markdown",
      "source": [
        "Membalik List/String"
      ],
      "metadata": {
        "id": "C8lw6z4t2B_F"
      }
    },
    {
      "cell_type": "code",
      "source": [
        "def reverse_list(a):\n",
        "    l, r = 0, len(a) - 1\n",
        "    while l < r:\n",
        "        a[l], a[r] = a[r], a[l]\n",
        "        l += 1\n",
        "        r -= 1\n",
        "    return a\n",
        "\n",
        "print(\"Reverse List:\", reverse_list([1, 2, 3, 4, 5]))\n",
        "print(\"Reverse String:\", \"hello\"[::-1])"
      ],
      "metadata": {
        "colab": {
          "base_uri": "https://localhost:8080/"
        },
        "id": "g0s7wB7D2EO8",
        "outputId": "779bfcc9-dd98-488a-d140-b3b9339ec4c0"
      },
      "execution_count": null,
      "outputs": [
        {
          "output_type": "stream",
          "name": "stdout",
          "text": [
            "Reverse List: [5, 4, 3, 2, 1]\n",
            "Reverse String: olleh\n"
          ]
        }
      ]
    }
  ]
}