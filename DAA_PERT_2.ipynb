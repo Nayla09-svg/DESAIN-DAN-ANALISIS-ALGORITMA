{
  "nbformat": 4,
  "nbformat_minor": 0,
  "metadata": {
    "colab": {
      "provenance": []
    },
    "kernelspec": {
      "name": "python3",
      "display_name": "Python 3"
    },
    "language_info": {
      "name": "python"
    }
  },
  "cells": [
    {
      "cell_type": "markdown",
      "source": [
        "**Latihan: menjumlahkan angka didalam array**"
      ],
      "metadata": {
        "id": "xflCzjSQ7Vc9"
      }
    },
    {
      "cell_type": "code",
      "source": [
        "import numpy as np\n",
        "\n",
        "list_a = [1, 2, 3]\n",
        "list_b = [4, 5, 6]\n",
        "\n",
        "def add(list_a, list_b):\n",
        "  result = []\n",
        "  x = 0\n",
        "  for first, second in zip(list_a, list_b):\n",
        "    result.append(first + second)\n",
        "  for i in result:\n",
        "    x += i\n",
        "  return x\n",
        "\n",
        "print(add(list_a, list_b))"
      ],
      "metadata": {
        "colab": {
          "base_uri": "https://localhost:8080/"
        },
        "id": "VPOHuiBQwnLS",
        "outputId": "0adc40b4-f750-441f-8e9e-ff3eaab38b3f"
      },
      "execution_count": null,
      "outputs": [
        {
          "output_type": "stream",
          "name": "stdout",
          "text": [
            "21\n"
          ]
        }
      ]
    },
    {
      "cell_type": "markdown",
      "source": [
        "**Latihan menampilkan angka sesuai index yang diminta**\n",
        "\n"
      ],
      "metadata": {
        "id": "un0cpQem0nIk"
      }
    },
    {
      "cell_type": "code",
      "source": [
        "import numpy as np\n",
        "\n",
        "nilai_siswa = np.array([85, 55, 40, 90])\n",
        "print(nilai_siswa[3])"
      ],
      "metadata": {
        "colab": {
          "base_uri": "https://localhost:8080/"
        },
        "id": "S76r0rRZzZ87",
        "outputId": "8e5f8695-53de-4c3b-d343-5c77676189d3"
      },
      "execution_count": null,
      "outputs": [
        {
          "output_type": "stream",
          "name": "stdout",
          "text": [
            "90\n"
          ]
        }
      ]
    },
    {
      "cell_type": "markdown",
      "source": [
        "**Mengecek python versi keberapa**"
      ],
      "metadata": {
        "id": "XwB0UW0W0MXR"
      }
    },
    {
      "cell_type": "code",
      "source": [
        "import numpy as np\n",
        "print(np.__version__)"
      ],
      "metadata": {
        "colab": {
          "base_uri": "https://localhost:8080/"
        },
        "id": "mqPqD7W8zzTQ",
        "outputId": "e5fd9cba-a544-4355-f1b5-4dc975907272"
      },
      "execution_count": null,
      "outputs": [
        {
          "output_type": "stream",
          "name": "stdout",
          "text": [
            "2.0.2\n"
          ]
        }
      ]
    },
    {
      "cell_type": "markdown",
      "source": [
        "**Membuat 2 versi Command**"
      ],
      "metadata": {
        "id": "ok5jz95i0SeH"
      }
    },
    {
      "cell_type": "code",
      "source": [
        "#Big O Notation\n",
        "# #Constant time(o(1)) complexity"
      ],
      "metadata": {
        "id": "bYTY9XOLz8h7"
      },
      "execution_count": null,
      "outputs": []
    },
    {
      "cell_type": "markdown",
      "source": [
        "**3 Latihan basic**"
      ],
      "metadata": {
        "id": "yHntGRC50rLr"
      }
    },
    {
      "cell_type": "code",
      "source": [
        "print(\"Hallo, World!\")\n",
        "nama = input(\"Masukkan nama: \")\n",
        "print(\"Nama saya\", nama)\n",
        "nim = input(\"Masukkan NIM: \")\n",
        "print(\"NIM Saya\", nim)"
      ],
      "metadata": {
        "colab": {
          "base_uri": "https://localhost:8080/"
        },
        "id": "iuzs95Rx0qv0",
        "outputId": "c6d4c742-8117-423d-b7c7-46952aa15288"
      },
      "execution_count": null,
      "outputs": [
        {
          "output_type": "stream",
          "name": "stdout",
          "text": [
            "Hallo, World!\n",
            "Masukkan nama: Nayla Putri Cahya R\n",
            "Nama saya Nayla Putri Cahya R\n",
            "Masukkan NIM: 2024071020\n",
            "NIM Saya 2024071020\n"
          ]
        }
      ]
    },
    {
      "cell_type": "markdown",
      "source": [
        "**Latihan Kondisional**"
      ],
      "metadata": {
        "id": "5I57yVlo7t8L"
      }
    },
    {
      "cell_type": "code",
      "source": [
        "if 5>2:\n",
        "  print(\"Lima lebih besar dari dua\")"
      ],
      "metadata": {
        "colab": {
          "base_uri": "https://localhost:8080/"
        },
        "id": "Q4tsqqx32Efs",
        "outputId": "4ab74413-38b9-4537-e4c1-070fdef377d2"
      },
      "execution_count": null,
      "outputs": [
        {
          "output_type": "stream",
          "name": "stdout",
          "text": [
            "Lima lebih besar dari dua\n"
          ]
        }
      ]
    },
    {
      "cell_type": "code",
      "source": [
        "if 2>5:\n",
        "  print(\"dua lebih besar dari lima\")"
      ],
      "metadata": {
        "id": "Zg3qOH4Q2RgR"
      },
      "execution_count": null,
      "outputs": []
    },
    {
      "cell_type": "code",
      "source": [
        "if 5==5:\n",
        "  print(\"lima sama dengan lima\")"
      ],
      "metadata": {
        "colab": {
          "base_uri": "https://localhost:8080/"
        },
        "id": "eiM_krhI2fII",
        "outputId": "f6805b45-286d-4cfe-ac9a-b694eaecaee3"
      },
      "execution_count": null,
      "outputs": [
        {
          "output_type": "stream",
          "name": "stdout",
          "text": [
            "lima sama dengan lima\n"
          ]
        }
      ]
    },
    {
      "cell_type": "markdown",
      "source": [
        "**Latihan Variabel**"
      ],
      "metadata": {
        "id": "9OBg0aMXzQCF"
      }
    },
    {
      "cell_type": "code",
      "source": [
        "x = 5\n",
        "y = \"John\"\n",
        "print(x)\n",
        "print(y)"
      ],
      "metadata": {
        "colab": {
          "base_uri": "https://localhost:8080/"
        },
        "id": "d8xRuNWg2rMz",
        "outputId": "a3f8376c-95c0-409e-d1d2-8b4efe182a19"
      },
      "execution_count": null,
      "outputs": [
        {
          "output_type": "stream",
          "name": "stdout",
          "text": [
            "5\n",
            "John\n"
          ]
        }
      ]
    },
    {
      "cell_type": "code",
      "source": [
        "x = 4\n",
        "x = \"Sally\"\n",
        "print(x)"
      ],
      "metadata": {
        "colab": {
          "base_uri": "https://localhost:8080/"
        },
        "id": "Df7jh7Mg2xdd",
        "outputId": "76785e44-2157-4449-a00e-6cddb098f32f"
      },
      "execution_count": null,
      "outputs": [
        {
          "output_type": "stream",
          "name": "stdout",
          "text": [
            "Sally\n"
          ]
        }
      ]
    },
    {
      "cell_type": "markdown",
      "source": [
        "**Latihan Get First**"
      ],
      "metadata": {
        "id": "ohLLO5c-3CH_"
      }
    },
    {
      "cell_type": "code",
      "source": [
        "def getFirst(myList):\n",
        "    return myList[0]\n",
        "\n",
        "getFirst([1, 2, 3])"
      ],
      "metadata": {
        "colab": {
          "base_uri": "https://localhost:8080/"
        },
        "id": "FvPsQQut3Bqj",
        "outputId": "819f969a-02b2-4257-d740-435f247efdd3"
      },
      "execution_count": null,
      "outputs": [
        {
          "output_type": "execute_result",
          "data": {
            "text/plain": [
              "1"
            ]
          },
          "metadata": {},
          "execution_count": 23
        }
      ]
    },
    {
      "cell_type": "code",
      "source": [
        "getFirst([1, 2, 3, 4, 5, 6, 7, 8, 9])"
      ],
      "metadata": {
        "colab": {
          "base_uri": "https://localhost:8080/"
        },
        "id": "rxLl6dV43py5",
        "outputId": "bbf21f02-c227-44da-8822-fbd23bd7d475"
      },
      "execution_count": null,
      "outputs": [
        {
          "output_type": "execute_result",
          "data": {
            "text/plain": [
              "1"
            ]
          },
          "metadata": {},
          "execution_count": 24
        }
      ]
    },
    {
      "cell_type": "markdown",
      "source": [
        "**Latihan Get Second**"
      ],
      "metadata": {
        "id": "rsgXz56wwd_U"
      }
    },
    {
      "cell_type": "code",
      "source": [
        "def getSecond(myList):\n",
        "  return(myList[1])\n",
        "getSecond([1, 2, 3])"
      ],
      "metadata": {
        "colab": {
          "base_uri": "https://localhost:8080/"
        },
        "id": "ndp0iUg6whX-",
        "outputId": "df880595-1f71-47f8-8ef5-da891955f793"
      },
      "execution_count": null,
      "outputs": [
        {
          "output_type": "execute_result",
          "data": {
            "text/plain": [
              "2"
            ]
          },
          "metadata": {},
          "execution_count": 25
        }
      ]
    },
    {
      "cell_type": "markdown",
      "source": [
        "**Latihan Get Last**"
      ],
      "metadata": {
        "id": "uq2Y4duN3rvQ"
      }
    },
    {
      "cell_type": "code",
      "source": [
        "def getLast(myList):\n",
        "    return myList[-1]\n",
        "\n",
        "(getLast([1, 2, 3]))"
      ],
      "metadata": {
        "colab": {
          "base_uri": "https://localhost:8080/"
        },
        "id": "zlD5cm0F3wRd",
        "outputId": "2ad60a77-9f5d-451a-fb57-75808c14462c"
      },
      "execution_count": null,
      "outputs": [
        {
          "output_type": "execute_result",
          "data": {
            "text/plain": [
              "3"
            ]
          },
          "metadata": {},
          "execution_count": 26
        }
      ]
    },
    {
      "cell_type": "code",
      "source": [
        "(getLast([1, 2, 3, 4, 5, 6, 7]))"
      ],
      "metadata": {
        "colab": {
          "base_uri": "https://localhost:8080/"
        },
        "id": "GIoO8uaH4-DH",
        "outputId": "f64a22a6-8646-4a8a-87bd-9b5b0ebfca1b"
      },
      "execution_count": null,
      "outputs": [
        {
          "output_type": "execute_result",
          "data": {
            "text/plain": [
              "7"
            ]
          },
          "metadata": {},
          "execution_count": 27
        }
      ]
    },
    {
      "cell_type": "markdown",
      "source": [
        "**Latihan Mencari Panjang Array**"
      ],
      "metadata": {
        "id": "RtW0RAY4xDIv"
      }
    },
    {
      "cell_type": "code",
      "source": [
        "my_list = [1,2,3]\n",
        "panjang_list = len(my_list)\n",
        "print(panjang_list)\n",
        "\n",
        "print(my_list[len(my_list)-1])"
      ],
      "metadata": {
        "colab": {
          "base_uri": "https://localhost:8080/"
        },
        "id": "xgPiN-BoxHF2",
        "outputId": "99b257bf-03d8-45a4-aa90-fb106216f9e0"
      },
      "execution_count": null,
      "outputs": [
        {
          "output_type": "stream",
          "name": "stdout",
          "text": [
            "3\n",
            "3\n"
          ]
        }
      ]
    },
    {
      "cell_type": "markdown",
      "source": [
        "**Latihan Get Sum**"
      ],
      "metadata": {
        "id": "u9DFUL32xMhM"
      }
    },
    {
      "cell_type": "code",
      "source": [
        "def getSum(myList):\n",
        "  sum = 0\n",
        "  for item in myList:\n",
        "    sum = sum+item\n",
        "  return sum\n",
        "getSum([1,2,3,4,5,6,7])"
      ],
      "metadata": {
        "colab": {
          "base_uri": "https://localhost:8080/"
        },
        "id": "yS3iZdQ1xPmH",
        "outputId": "d79ca068-e6b8-4c7b-8328-a08728d8b61c"
      },
      "execution_count": null,
      "outputs": [
        {
          "output_type": "execute_result",
          "data": {
            "text/plain": [
              "28"
            ]
          },
          "metadata": {},
          "execution_count": 29
        }
      ]
    },
    {
      "cell_type": "markdown",
      "source": [
        "**Latihan Get Kali**"
      ],
      "metadata": {
        "id": "RJrnrIwomq0U"
      }
    },
    {
      "cell_type": "code",
      "source": [
        "def getKali(myList):\n",
        "  hasil = 1\n",
        "  for x in myList:\n",
        "    hasil *= x\n",
        "  return hasil\n",
        "\n",
        "print(getKali([1, 2, 3]))"
      ],
      "metadata": {
        "colab": {
          "base_uri": "https://localhost:8080/"
        },
        "id": "fO4Ur2M9mqZw",
        "outputId": "5a726998-a8b1-4de6-b60c-47e690d8130b"
      },
      "execution_count": null,
      "outputs": [
        {
          "output_type": "stream",
          "name": "stdout",
          "text": [
            "6\n"
          ]
        }
      ]
    },
    {
      "cell_type": "markdown",
      "source": [
        "**Latihan get Bagi**"
      ],
      "metadata": {
        "id": "N6p8MuVtnRgK"
      }
    },
    {
      "cell_type": "code",
      "source": [
        "def getBagi(myList):\n",
        "    result = myList[0]\n",
        "    for num in myList[1:]:\n",
        "        result /= num\n",
        "    return result\n",
        "\n",
        "print(getBagi([100, 5, 2]))"
      ],
      "metadata": {
        "colab": {
          "base_uri": "https://localhost:8080/"
        },
        "id": "lwXdzoSdnVGD",
        "outputId": "44ff5f51-697d-49e5-e9b0-12201b6a67ce"
      },
      "execution_count": null,
      "outputs": [
        {
          "output_type": "stream",
          "name": "stdout",
          "text": [
            "10.0\n"
          ]
        }
      ]
    },
    {
      "cell_type": "markdown",
      "source": [
        "**Latihan Get Tambah**"
      ],
      "metadata": {
        "id": "8ANNnwzipCdt"
      }
    },
    {
      "cell_type": "code",
      "source": [
        "def getTambah(A, B):\n",
        "  A = (1, 2, 3)\n",
        "  B = (4, 5, 6)\n",
        "\n",
        "  sum1 = sum(A)\n",
        "  sum2 = sum(B)\n",
        "\n",
        "  return sum1 + sum2\n",
        "\n",
        "print(getTambah([1, 2, 3], [4, 5, 6]))"
      ],
      "metadata": {
        "colab": {
          "base_uri": "https://localhost:8080/"
        },
        "id": "IMiqJToVpFCt",
        "outputId": "5a8c4504-6ff7-417f-be8f-0e33ec820f66"
      },
      "execution_count": null,
      "outputs": [
        {
          "output_type": "stream",
          "name": "stdout",
          "text": [
            "21\n"
          ]
        }
      ]
    },
    {
      "cell_type": "markdown",
      "source": [
        "**Latihan Get Kurang**"
      ],
      "metadata": {
        "id": "BfAfT9ZXoiFk"
      }
    },
    {
      "cell_type": "code",
      "source": [
        "def getKurang(A, B):\n",
        "  A = (1, 2, 3)\n",
        "  B = (4, 5, 6)\n",
        "\n",
        "  sum1 = sum(A)\n",
        "  sum2 = sum(B)\n",
        "\n",
        "  return sum1 - sum2\n",
        "\n",
        "print(getKurang((1, 2, 3), (4, 5, 6)))"
      ],
      "metadata": {
        "colab": {
          "base_uri": "https://localhost:8080/"
        },
        "id": "j0p7NYw_olCe",
        "outputId": "de013c90-ed40-4b41-e342-d16d606d911a"
      },
      "execution_count": null,
      "outputs": [
        {
          "output_type": "stream",
          "name": "stdout",
          "text": [
            "-9\n"
          ]
        }
      ]
    },
    {
      "cell_type": "markdown",
      "source": [
        "**Latihan Membagi 2 himpunan angka**"
      ],
      "metadata": {
        "id": "uU-lv0gUyUzG"
      }
    },
    {
      "cell_type": "code",
      "source": [
        "def getBagi(myList):\n",
        "  if not myList or not myList[0]:\n",
        "        return None\n",
        "  hasil = myList[0][0]\n",
        "  for item in myList[0][1:]:\n",
        "      hasil /= item\n",
        "  for row in myList[1:]:\n",
        "    for item in row:\n",
        "      hasil /= item\n",
        "  return hasil\n",
        "\n",
        "print(getBagi([[64,2,2], [2,2,2]]))"
      ],
      "metadata": {
        "colab": {
          "base_uri": "https://localhost:8080/"
        },
        "id": "jTyQ6M3EyYR9",
        "outputId": "75d3df63-eb11-4692-abf4-c16875d8877c"
      },
      "execution_count": null,
      "outputs": [
        {
          "output_type": "stream",
          "name": "stdout",
          "text": [
            "2.0\n"
          ]
        }
      ]
    },
    {
      "cell_type": "markdown",
      "source": [
        "**Latihan Mengurangi 2 himpunan angka**"
      ],
      "metadata": {
        "id": "1zMrrCuVycG_"
      }
    },
    {
      "cell_type": "code",
      "source": [
        "def getKurang(myList):\n",
        "    if not myList:\n",
        "        return None\n",
        "\n",
        "    flat = [x for row in myList for x in (row if isinstance(row, list) else [row])]\n",
        "\n",
        "    hasil = flat[0]\n",
        "    for x in flat[1:]:\n",
        "        hasil -= x\n",
        "    return hasil\n",
        "\n",
        "print(getKurang([[20, 5, 3], [4, 2, 2]]))\n"
      ],
      "metadata": {
        "id": "_SqAOR9bmB5a",
        "colab": {
          "base_uri": "https://localhost:8080/"
        },
        "outputId": "de1d5efa-bee2-4c74-f27c-b95dbaea288f"
      },
      "execution_count": null,
      "outputs": [
        {
          "output_type": "stream",
          "name": "stdout",
          "text": [
            "4\n"
          ]
        }
      ]
    }
  ]
}